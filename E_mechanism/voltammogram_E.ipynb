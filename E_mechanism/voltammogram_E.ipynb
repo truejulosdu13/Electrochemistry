{
 "cells": [
  {
   "cell_type": "code",
   "execution_count": 1,
   "metadata": {},
   "outputs": [],
   "source": [
    "import math\n",
    "\n",
    "## PHYSICAL CONSTANTS \n",
    "R      = 8.3145  # J/mol-K, ideal gas constant\n",
    "T      = 298.15  # K, temperature\n",
    "F      = 96485   # C/mol, Faraday's constant\n",
    "S      = 1E-6   #  electrode surface. Default = 1E-6\n",
    "F_norm = F/(R*T)\n",
    "\n",
    "\n",
    "## INDEPENDENT VARIABLES \n",
    "### EXPERIMENTALLY CONTROLED\n",
    "C_red_val  = 1.0    #  mol/L, initial concentration of O. Default = 1.0\n",
    "C_ox_val   = 0.0    #  mol/L, initial concentration of O. Default = 1.0\n",
    "\n",
    "\n",
    "\n",
    "### SYSTEM DEPENDENT\n",
    "E_0        = 0.0    #  electrochemical potential. Default = 0.0\n",
    "D          = 1E-5   #  cm^2/s, O & R diffusion coefficient. Default = 1E-5\n",
    "n          = 1.0    #  number of electrons transfered. Default = 1\n",
    "alpha      = 0.5    #  dimensionless charge-transfer coefficient. Default = 0.5\n",
    "k0         = 1E-2   #  cm/s, electrochemical rate constant. Default = 1E-2\n",
    "kc         = 1E-3   #  1/s, chemical rate constant. Default = 1E-3\n",
    "\n",
    "## SIMULATION VARIABLES\n",
    "# simulation accuracy in time and space\n",
    "Nt      = 10000      # number of iterations per t_k (pg 790). Default = 500\n",
    "Nx      = 200       # number of spatial boxes  Default = 200\n",
    "\n",
    "# key adimensionnated parameters\n",
    "DM      = 0.45      #DM = D*Dt/Dx**2 numerical adimensionated diffusion parameter. Default = 0.45\n",
    "Lambda  = 2         #Lambda  = k0*Dx/D numerical adimensionated electron transfer parameter. Fast if \n",
    "\n",
    "# physical distances according to the previosu parameters\n",
    "L_cuve  = math.floor(D*Nt**0.5) + 3  # longueur physique de la cuve so that we are always in a diffusion controled system\n",
    "Dx      = L_cuve/Nx  # pas d'espace\n",
    "\n",
    "## Experimental paramteres in the case of a linear sweep voltammetry\n",
    "## LSV\n",
    "E_i     = -0.5\n",
    "E_f     = +0.5\n",
    "E_SW    = 0.05\n",
    "Delta_E = 0.01\n",
    "v       = 0.1\n",
    "f       = 25\n",
    "tau     = 1.0"
   ]
  },
  {
   "cell_type": "code",
   "execution_count": 2,
   "metadata": {},
   "outputs": [],
   "source": [
    "import numpy as np\n",
    "import matplotlib.pyplot as plt\n",
    "\n",
    "# sort all variables in order to be used in the next programms\n",
    "\n",
    "cst_phys = (R,T,F,F_norm,S)\n",
    "cst_conc = (C_ox_val, C_red_val)\n",
    "cst_syst = (E_0, D, n, alpha, k0, kc)\n",
    "cst_expe = (E_i, E_f, E_SW, Delta_E, v, f, tau)\n",
    "cst_simu = (Nt, Nx, DM, Lambda, L_cuve, Dx)\n",
    "cst_all  = (cst_phys, cst_conc, cst_syst, cst_simu, cst_expe)"
   ]
  },
  {
   "cell_type": "code",
   "execution_count": 3,
   "metadata": {},
   "outputs": [],
   "source": [
    "#from plot_voltammogram_E import main_LSV_E\n",
    "#main_LSV_E(cst_all)"
   ]
  },
  {
   "cell_type": "code",
   "execution_count": 4,
   "metadata": {},
   "outputs": [],
   "source": [
    "#from plot_voltammogram_E import main_CSV_E\n",
    "#main_CSV_E(cst_all)"
   ]
  },
  {
   "cell_type": "code",
   "execution_count": 5,
   "metadata": {},
   "outputs": [
    {
     "ename": "SyntaxError",
     "evalue": "invalid syntax (plot_voltammogram_E.py, line 4)",
     "output_type": "error",
     "traceback": [
      "Traceback \u001b[0;36m(most recent call last)\u001b[0m:\n",
      "  File \u001b[1;32m\"/usr/local/anaconda3/lib/python3.7/site-packages/IPython/core/interactiveshell.py\"\u001b[0m, line \u001b[1;32m3331\u001b[0m, in \u001b[1;35mrun_code\u001b[0m\n    exec(code_obj, self.user_global_ns, self.user_ns)\n",
      "\u001b[0;36m  File \u001b[0;32m\"<ipython-input-5-870dd957b12b>\"\u001b[0;36m, line \u001b[0;32m1\u001b[0;36m, in \u001b[0;35m<module>\u001b[0;36m\u001b[0m\n\u001b[0;31m    from plot_voltammogram_E import main_SWV_E\u001b[0m\n",
      "\u001b[0;36m  File \u001b[0;32m\"/Users/julesschleinitz/Desktop/These/Git_Electrochemistry/Electrochemistry/E_mechanism/plot_voltammogram_E.py\"\u001b[0;36m, line \u001b[0;32m4\u001b[0m\n\u001b[0;31m    from /Users/julesschleinitz/Desktop/These/Git_Electrochemistry/Electrochemistry/potential_applied import *\u001b[0m\n\u001b[0m         ^\u001b[0m\n\u001b[0;31mSyntaxError\u001b[0m\u001b[0;31m:\u001b[0m invalid syntax\n"
     ]
    }
   ],
   "source": [
    "from plot_voltammogram_E import main_SWV_E\n",
    "from plot_voltammogram_E import plot_SWV\n",
    "I = main_SWV_E(cst_all)\n",
    "(E_for, I_for, E_rev, I_rev, Delta_I) = plot_SWV(cst_all, I)"
   ]
  },
  {
   "cell_type": "code",
   "execution_count": 6,
   "metadata": {},
   "outputs": [],
   "source": [
    "import sys"
   ]
  },
  {
   "cell_type": "code",
   "execution_count": 8,
   "metadata": {},
   "outputs": [
    {
     "data": {
      "text/plain": [
       "['/Users/julesschleinitz/Desktop/These/Git_Electrochemistry/Electrochemistry/E_mechanism',\n",
       " '/usr/local/anaconda3/lib/python37.zip',\n",
       " '/usr/local/anaconda3/lib/python3.7',\n",
       " '/usr/local/anaconda3/lib/python3.7/lib-dynload',\n",
       " '',\n",
       " '/usr/local/anaconda3/lib/python3.7/site-packages',\n",
       " '/usr/local/anaconda3/lib/python3.7/site-packages/aeosa',\n",
       " '/usr/local/anaconda3/lib/python3.7/site-packages/IPython/extensions',\n",
       " '/Users/julesschleinitz/.ipython']"
      ]
     },
     "execution_count": 8,
     "metadata": {},
     "output_type": "execute_result"
    }
   ],
   "source": [
    "sys.path"
   ]
  },
  {
   "cell_type": "code",
   "execution_count": null,
   "metadata": {},
   "outputs": [],
   "source": []
  }
 ],
 "metadata": {
  "kernelspec": {
   "display_name": "Python 3",
   "language": "python",
   "name": "python3"
  },
  "language_info": {
   "codemirror_mode": {
    "name": "ipython",
    "version": 3
   },
   "file_extension": ".py",
   "mimetype": "text/x-python",
   "name": "python",
   "nbconvert_exporter": "python",
   "pygments_lexer": "ipython3",
   "version": "3.7.6"
  }
 },
 "nbformat": 4,
 "nbformat_minor": 4
}
