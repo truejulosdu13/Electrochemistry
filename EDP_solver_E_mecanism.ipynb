# this programmes numerically solves the partial derivative equations of the diffusion problem with bulk and electrode conditions with the Crank-Nicolson technique

import math
import numpy as np
import matplotlib.pyplot as plt

def Laplacian_Matrix(Nx):                              ## def Laplacien
    L = np.zeros((Nx,Nx))
    for i in range(Nx-2):
        L[i+1,i+1] = -2
        L[i+1,i]   = +1
        L[i+1,i+2] = +1
    return(L)

# a first constant over time Matrix is defined
def Matrix_constant(Nx):
    # bloc building of Matrix_new and Matrix_old
    Identite_tronquee = np.concatenate((np.zeros((1,Nx-2)), np.eye(Nx-2), np.zeros((1,Nx-2))), axis=0)
    Identite_tronquee = np.concatenate((np.zeros((Nx,1)), Identite_tronquee, np.zeros((Nx,1))), axis=1)
    M_new_0_0 = M_new_1_1 = Identite_tronquee - 0.5*DM*Laplacian_Matrix(Nx)
    M_old_0_0 = M_old_1_1 = Identite_tronquee + 0.5*DM*Laplacian_Matrix(Nx)
    M_new_1_0 = M_new_0_1 = M_old_1_0 = M_old_0_1 = np.zeros((Nx,Nx))
    
    # assemblage des blocs
    M_new_0 = np.concatenate((M_new_0_0, M_new_0_1), axis=1)
    M_new_1 = np.concatenate((M_new_1_0, M_new_1_1), axis=1)
    M_old_0 = np.concatenate((M_old_0_0, M_old_0_1), axis=1)
    M_old_1 = np.concatenate((M_old_1_0, M_old_1_1), axis=1)
    
    M_new_constant = np.concatenate((M_new_0, M_new_1), axis=0)
    M_old_constant = np.concatenate((M_old_0, M_old_1), axis=0)
    
    return(M_new_constant, M_old_constant)
  
# the time dependend Matrix is defined thanks to the constant Matrix and the boundaries conditions of the electrochemical problem
def Matrix_E_Non_Nernst_boundaries(M_new_constant, Nx, t, E, Lambda):       
    M_new = M_new_constant

    # boundaries conditions at bulk :
    M_new[Nx-1,Nx-1] = M_new[2*Nx-1, 2*Nx-1] = 1
    
    # current condition on Cox
    M_new[0, 0] = + 1 + Lambda*k_red(t, E)
    M_new[0, 1] = - 1
    M_new[0,Nx] = - Lambda*k_ox(t, E)
    
    # equality of the concentration flux at the electrode
    M_new[Nx, 0]  = + 1
    M_new[Nx, 1]  = - 1
    M_new[Nx, Nx] = + 1
    M_new[Nx, Nx+1] = -1
    
    return(M_new)  

# calculating the right hand side term for the E mecanism
def RHS_E(M_old, C_old):
    RHS = np.dot(M_old, C_old)
    RHS[0]      = 0
    RHS[Nx-1]   = C_ox_val
    RHS[Nx]     = 0
    RHS[2*Nx-1] = C_red_val  
    return(RHS)

# temporal propagation of the concentration profile
def compute_Cnew(M_new, M_old, C_old):
    RHS = RHS_E(M_old, C_old)
    C_new = np.linalg.solve(M_new, RHS)
    return(C_new)
