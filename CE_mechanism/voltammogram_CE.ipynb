{
 "cells": [
  {
   "cell_type": "code",
   "execution_count": 6,
   "metadata": {},
   "outputs": [],
   "source": [
    "import math\n",
    "\n",
    "## PHYSICAL CONSTANTS \n",
    "R      = 8.3145  # J/mol-K, ideal gas constant\n",
    "T      = 298.15  # K, temperature\n",
    "F      = 96485   # C/mol, Faraday's constant\n",
    "S      = 1E-6   #  electrode surface. Default = 1E-6\n",
    "F_norm = F/(R*T)\n",
    "\n",
    "\n",
    "## INDEPENDENT VARIABLES \n",
    "### EXPERIMENTALLY CONTROLED\n",
    "C_a   = 1.0    #  mol/L, initial concentration of A. Default = 1.0\n",
    "C_b   = 0.0    #  mol/L, initial concentration of B. Default = 1.0\n",
    "C_c   = 0.0    #  mol/L, initial concentration of C. Default = 1.0\n",
    "n_sp  = 3      # number of reactive species considered\n",
    "\n",
    "### SYSTEM DEPENDENT\n",
    "E_0        = 0.0    #  electrochemical potential. Default = 0.0\n",
    "D          = 1E-5   #  cm^2/s, O & R diffusion coefficient. Default = 1E-5\n",
    "n          = 1.0    #  number of electrons transfered. Default = 1\n",
    "alpha      = 0.5    #  dimensionless charge-transfer coefficient. Default = 0.5\n",
    "k0         = 1E-2   #  cm/s, electrochemical rate constant. Default = 1E-2\n",
    "kc         = 1E-3   #  1/s, chemical rate constant. Default = 1E-3\n",
    "k_p        = 2E-3   #  1/s, chemical rate constant. Default = 1E-3\n",
    "k_m        = 2E-3   #  1/s, chemical rate constant. Default = 1E-3\n",
    "K    = k_p/k_m      #  dimensionless equilibrium constant for the pure chemical equilibria\n",
    "\n",
    "## SIMULATION VARIABLES\n",
    "# simulation accuracy in time and space\n",
    "Nt      = 10000      # number of iterations per t_k (pg 790). Default = 500\n",
    "Nx      = 200        # number of spatial boxes  Default = 200\n",
    "\n",
    "# key adimensionnated parameters\n",
    "DM      = 0.45      #DM = D*Dt/Dx**2 numerical adimensionated diffusion parameter. Default = 0.45\n",
    "Lambda  = 2         #Lambda  = k0*Dx/D numerical adimensionated electron transfer parameter. Fast if \n",
    "\n",
    "# physical distances according to the previosu parameters\n",
    "L_cuve  = math.floor(D*Nt**0.5) + 3  # longueur physique de la cuve so that we are always in a diffusion controled system\n",
    "Dx      = L_cuve/Nx  # pas d'espace\n",
    "\n",
    "## Experimental paramteres in the case of a linear sweep voltammetry\n",
    "## LSV\n",
    "E_i     = -0.5\n",
    "E_f     = +0.5\n",
    "E_SW    = 0.05\n",
    "Delta_E = 0.01\n",
    "v       = 0.1\n",
    "f       = 25\n",
    "tau     = 1.0\n",
    "\n",
    "\n",
    "import numpy as np\n",
    "import matplotlib.pyplot as plt\n",
    "\n",
    "# sort all variables in order to be used in the next programms\n",
    "\n",
    "cst_phys = (R,T,F,F_norm,S)\n",
    "cst_conc = (C_a, C_b, C_c, n_sp)\n",
    "cst_syst = (E_0, D, n, alpha, k0, kc, k_p, k_m, K)\n",
    "cst_expe = (E_i, E_f, E_SW, Delta_E, v, f, tau)\n",
    "cst_simu = (Nt, Nx, DM, Lambda, L_cuve, Dx)\n",
    "cst_all  = (cst_phys, cst_conc, cst_syst, cst_simu, cst_expe)"
   ]
  },
  {
   "cell_type": "code",
   "execution_count": 7,
   "metadata": {},
   "outputs": [
    {
     "name": "stdout",
     "output_type": "stream",
     "text": [
      "DM =  0.45 and lambda =  2\n",
      "200\n"
     ]
    },
    {
     "ename": "TypeError",
     "evalue": "'list' object cannot be interpreted as an integer",
     "output_type": "error",
     "traceback": [
      "\u001b[0;31m---------------------------------------------------------------------------\u001b[0m",
      "\u001b[0;31mTypeError\u001b[0m                                 Traceback (most recent call last)",
      "\u001b[0;32m<ipython-input-7-239d4819336d>\u001b[0m in \u001b[0;36m<module>\u001b[0;34m\u001b[0m\n\u001b[1;32m      1\u001b[0m \u001b[0;32mfrom\u001b[0m \u001b[0mplot_voltammogram_CE\u001b[0m \u001b[0;32mimport\u001b[0m \u001b[0mmain_LSV_CE\u001b[0m\u001b[0;34m\u001b[0m\u001b[0;34m\u001b[0m\u001b[0m\n\u001b[0;32m----> 2\u001b[0;31m \u001b[0mmain_LSV_CE\u001b[0m\u001b[0;34m(\u001b[0m\u001b[0mcst_all\u001b[0m\u001b[0;34m)\u001b[0m\u001b[0;34m\u001b[0m\u001b[0;34m\u001b[0m\u001b[0m\n\u001b[0m",
      "\u001b[0;32m~/Desktop/These/Git_Electrochemistry/Electrochemistry/CE_mechanism/plot_voltammogram_CE.py\u001b[0m in \u001b[0;36mmain_LSV_CE\u001b[0;34m(cst_all)\u001b[0m\n\u001b[1;32m     22\u001b[0m     \u001b[0mprint\u001b[0m\u001b[0;34m(\u001b[0m\u001b[0mNx\u001b[0m\u001b[0;34m)\u001b[0m\u001b[0;34m\u001b[0m\u001b[0;34m\u001b[0m\u001b[0m\n\u001b[1;32m     23\u001b[0m     \u001b[0mC_new\u001b[0m \u001b[0;34m=\u001b[0m \u001b[0;34m[\u001b[0m\u001b[0mC_a_eq\u001b[0m \u001b[0;32mfor\u001b[0m \u001b[0mi\u001b[0m \u001b[0;32min\u001b[0m \u001b[0mrange\u001b[0m\u001b[0;34m(\u001b[0m\u001b[0mNx\u001b[0m\u001b[0;34m)\u001b[0m\u001b[0;34m,\u001b[0m \u001b[0mC_b_eq\u001b[0m \u001b[0;32mfor\u001b[0m \u001b[0mi\u001b[0m \u001b[0;32min\u001b[0m \u001b[0mrange\u001b[0m\u001b[0;34m(\u001b[0m\u001b[0mNx\u001b[0m\u001b[0;34m)\u001b[0m\u001b[0;34m,\u001b[0m \u001b[0mcst_all\u001b[0m\u001b[0;34m[\u001b[0m\u001b[0;36m1\u001b[0m\u001b[0;34m]\u001b[0m\u001b[0;34m[\u001b[0m\u001b[0;36m2\u001b[0m\u001b[0;34m]\u001b[0m \u001b[0;32mfor\u001b[0m \u001b[0mi\u001b[0m \u001b[0;32min\u001b[0m \u001b[0mrange\u001b[0m\u001b[0;34m(\u001b[0m\u001b[0mNx\u001b[0m\u001b[0;34m)\u001b[0m\u001b[0;34m]\u001b[0m\u001b[0;34m\u001b[0m\u001b[0;34m\u001b[0m\u001b[0m\n\u001b[0;32m---> 24\u001b[0;31m \u001b[0;34m\u001b[0m\u001b[0m\n\u001b[0m\u001b[1;32m     25\u001b[0m \u001b[0;34m\u001b[0m\u001b[0m\n\u001b[1;32m     26\u001b[0m     \u001b[0;31m## propagation temporelle\u001b[0m\u001b[0;34m\u001b[0m\u001b[0;34m\u001b[0m\u001b[0;34m\u001b[0m\u001b[0m\n",
      "\u001b[0;32m<__array_function__ internals>\u001b[0m in \u001b[0;36mappend\u001b[0;34m(*args, **kwargs)\u001b[0m\n",
      "\u001b[0;32m/usr/local/anaconda3/lib/python3.7/site-packages/numpy/lib/function_base.py\u001b[0m in \u001b[0;36mappend\u001b[0;34m(arr, values, axis)\u001b[0m\n\u001b[1;32m   4691\u001b[0m         \u001b[0mvalues\u001b[0m \u001b[0;34m=\u001b[0m \u001b[0mravel\u001b[0m\u001b[0;34m(\u001b[0m\u001b[0mvalues\u001b[0m\u001b[0;34m)\u001b[0m\u001b[0;34m\u001b[0m\u001b[0;34m\u001b[0m\u001b[0m\n\u001b[1;32m   4692\u001b[0m         \u001b[0maxis\u001b[0m \u001b[0;34m=\u001b[0m \u001b[0marr\u001b[0m\u001b[0;34m.\u001b[0m\u001b[0mndim\u001b[0m\u001b[0;34m-\u001b[0m\u001b[0;36m1\u001b[0m\u001b[0;34m\u001b[0m\u001b[0;34m\u001b[0m\u001b[0m\n\u001b[0;32m-> 4693\u001b[0;31m     \u001b[0;32mreturn\u001b[0m \u001b[0mconcatenate\u001b[0m\u001b[0;34m(\u001b[0m\u001b[0;34m(\u001b[0m\u001b[0marr\u001b[0m\u001b[0;34m,\u001b[0m \u001b[0mvalues\u001b[0m\u001b[0;34m)\u001b[0m\u001b[0;34m,\u001b[0m \u001b[0maxis\u001b[0m\u001b[0;34m=\u001b[0m\u001b[0maxis\u001b[0m\u001b[0;34m)\u001b[0m\u001b[0;34m\u001b[0m\u001b[0;34m\u001b[0m\u001b[0m\n\u001b[0m\u001b[1;32m   4694\u001b[0m \u001b[0;34m\u001b[0m\u001b[0m\n\u001b[1;32m   4695\u001b[0m \u001b[0;34m\u001b[0m\u001b[0m\n",
      "\u001b[0;32m<__array_function__ internals>\u001b[0m in \u001b[0;36mconcatenate\u001b[0;34m(*args, **kwargs)\u001b[0m\n",
      "\u001b[0;31mTypeError\u001b[0m: 'list' object cannot be interpreted as an integer"
     ]
    }
   ],
   "source": [
    "from plot_voltammogram_CE import main_LSV_CE\n",
    "main_LSV_CE(cst_all)"
   ]
  },
  {
   "cell_type": "code",
   "execution_count": null,
   "metadata": {},
   "outputs": [],
   "source": []
  },
  {
   "cell_type": "code",
   "execution_count": null,
   "metadata": {},
   "outputs": [],
   "source": []
  }
 ],
 "metadata": {
  "kernelspec": {
   "display_name": "Python 3",
   "language": "python",
   "name": "python3"
  },
  "language_info": {
   "codemirror_mode": {
    "name": "ipython",
    "version": 3
   },
   "file_extension": ".py",
   "mimetype": "text/x-python",
   "name": "python",
   "nbconvert_exporter": "python",
   "pygments_lexer": "ipython3",
   "version": "3.7.6"
  }
 },
 "nbformat": 4,
 "nbformat_minor": 4
}
