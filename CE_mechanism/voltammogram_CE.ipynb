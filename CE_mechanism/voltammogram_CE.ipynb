{
 "cells": [
  {
   "cell_type": "code",
   "execution_count": 9,
   "metadata": {},
   "outputs": [],
   "source": [
    "import math\n",
    "\n",
    "## PHYSICAL CONSTANTS \n",
    "R      = 8.3145  # J/mol-K, ideal gas constant\n",
    "T      = 298.15  # K, temperature\n",
    "F      = 96485   # C/mol, Faraday's constant\n",
    "S      = 1E-6   #  electrode surface. Default = 1E-6\n",
    "F_norm = F/(R*T)\n",
    "\n",
    "\n",
    "## INDEPENDENT VARIABLES \n",
    "### EXPERIMENTALLY CONTROLED\n",
    "C_a   = 1.0    #  mol/L, initial concentration of A. Default = 1.0\n",
    "C_b   = 0.0    #  mol/L, initial concentration of B. Default = 1.0\n",
    "C_c   = 0.0    #  mol/L, initial concentration of C. Default = 1.0\n",
    "n_sp  = 3      # number of reactive species considered\n",
    "\n",
    "### SYSTEM DEPENDENT\n",
    "E_0        = 0.0    #  electrochemical potential. Default = 0.0\n",
    "D          = 1E-5   #  cm^2/s, O & R diffusion coefficient. Default = 1E-5\n",
    "n          = 1.0    #  number of electrons transfered. Default = 1\n",
    "alpha      = 0.5    #  dimensionless charge-transfer coefficient. Default = 0.5\n",
    "k0         = 1E-2   #  cm/s, electrochemical rate constant. Default = 1E-2\n",
    "kc         = 1E-3   #  1/s, chemical rate constant. Default = 1E-3\n",
    "k_p        = 1E-4   #  1/s, chemical rate constant. Default = 1E-3\n",
    "k_m        = 1E-1   #  1/s, chemical rate constant. Default = 1E-3\n",
    "K    = k_p/k_m      #  dimensionless equilibrium constant for the pure chemical equilibria\n",
    "\n",
    "## SIMULATION VARIABLES\n",
    "# simulation accuracy in time and space\n",
    "Nt      = 5000      # number of iterations per t_k (pg 790). Default = 500\n",
    "Nx      = 500        # number of spatial boxes  Default = 200\n",
    "\n",
    "# key adimensionnated parameters\n",
    "DM      = 0.45      #DM = D*Dt/Dx**2 numerical adimensionated diffusion parameter. Default = 0.45\n",
    "Lambda  = 2         #Lambda  = k0*Dx/D numerical adimensionated electron transfer parameter. Fast if \n",
    "\n",
    "# physical distances according to the previosu parameters\n",
    "L_cuve  = math.floor(D*Nt**0.5) + 3  # longueur physique de la cuve so that we are always in a diffusion controled system\n",
    "Dx      = L_cuve/Nx  # pas d'espace\n",
    "\n",
    "## Experimental paramteres in the case of a linear sweep voltammetry\n",
    "## LSV\n",
    "E_i     = -0.2\n",
    "E_f     = +0.2\n",
    "E_SW    = 0.05\n",
    "Delta_E = 0.01\n",
    "v       = 0.0001\n",
    "f       = 25\n",
    "tau     = 1.0\n",
    "\n",
    "\n",
    "import numpy as np\n",
    "import matplotlib.pyplot as plt\n",
    "\n",
    "# sort all variables in order to be used in the next programms\n",
    "\n",
    "cst_phys = (R,T,F,F_norm,S)\n",
    "cst_conc = (C_a, C_b, C_c, n_sp)\n",
    "cst_syst = (E_0, D, n, alpha, k0, kc, k_p, k_m, K)\n",
    "cst_expe = (E_i, E_f, E_SW, Delta_E, v, f, tau)\n",
    "cst_simu = (Nt, Nx, DM, Lambda, L_cuve, Dx)\n",
    "cst_all  = (cst_phys, cst_conc, cst_syst, cst_simu, cst_expe)"
   ]
  },
  {
   "cell_type": "code",
   "execution_count": null,
   "metadata": {},
   "outputs": [
    {
     "name": "stdout",
     "output_type": "stream",
     "text": [
      "DM =  0.45 and lambda =  2\n",
      "K =  0.001\n",
      "C_a_eq =  0.9990009990009991 C_b_eq =  0.0009990009990009992\n"
     ]
    }
   ],
   "source": [
    "from plot_voltammogram_CE import main_LSV_CE\n",
    "I = main_LSV_CE(cst_all)"
   ]
  }
 ],
 "metadata": {
  "kernelspec": {
   "display_name": "Python 3",
   "language": "python",
   "name": "python3"
  },
  "language_info": {
   "codemirror_mode": {
    "name": "ipython",
    "version": 3
   },
   "file_extension": ".py",
   "mimetype": "text/x-python",
   "name": "python",
   "nbconvert_exporter": "python",
   "pygments_lexer": "ipython3",
   "version": "3.7.6"
  }
 },
 "nbformat": 4,
 "nbformat_minor": 4
}
