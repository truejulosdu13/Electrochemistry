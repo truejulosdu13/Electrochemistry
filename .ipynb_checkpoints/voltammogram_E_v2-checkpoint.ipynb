{
 "cells": [
  {
   "cell_type": "code",
   "execution_count": 7,
   "metadata": {},
   "outputs": [
    {
     "ename": "ModuleNotFoundError",
     "evalue": "No module named 'potential_applied_v2'",
     "output_type": "error",
     "traceback": [
      "\u001b[0;31m---------------------------------------------------------------------------\u001b[0m",
      "\u001b[0;31mModuleNotFoundError\u001b[0m                       Traceback (most recent call last)",
      "\u001b[0;32m<ipython-input-7-ac0762c1c3b1>\u001b[0m in \u001b[0;36m<module>\u001b[0;34m\u001b[0m\n\u001b[1;32m      2\u001b[0m \u001b[0;32mimport\u001b[0m \u001b[0mnumpy\u001b[0m \u001b[0;32mas\u001b[0m \u001b[0mnp\u001b[0m\u001b[0;34m\u001b[0m\u001b[0;34m\u001b[0m\u001b[0m\n\u001b[1;32m      3\u001b[0m \u001b[0;32mimport\u001b[0m \u001b[0mmatplotlib\u001b[0m\u001b[0;34m.\u001b[0m\u001b[0mpyplot\u001b[0m \u001b[0;32mas\u001b[0m \u001b[0mplt\u001b[0m\u001b[0;34m\u001b[0m\u001b[0;34m\u001b[0m\u001b[0m\n\u001b[0;32m----> 4\u001b[0;31m \u001b[0;32mimport\u001b[0m \u001b[0mpotential_applied_v2\u001b[0m\u001b[0;34m.\u001b[0m\u001b[0mipynb\u001b[0m\u001b[0;34m\u001b[0m\u001b[0;34m\u001b[0m\u001b[0m\n\u001b[0m\u001b[1;32m      5\u001b[0m \u001b[0;32mfrom\u001b[0m \u001b[0mEDP_solver_CN_v2\u001b[0m \u001b[0;32mimport\u001b[0m \u001b[0mall\u001b[0m\u001b[0;34m\u001b[0m\u001b[0;34m\u001b[0m\u001b[0m\n\u001b[1;32m      6\u001b[0m \u001b[0;34m\u001b[0m\u001b[0m\n",
      "\u001b[0;31mModuleNotFoundError\u001b[0m: No module named 'potential_applied_v2'"
     ]
    }
   ],
   "source": [
    "import math\n",
    "import numpy as np\n",
    "import matplotlib.pyplot as plt\n",
    "import potential_applied_v2.ipynb\n",
    "from EDP_solver_CN_v2 import all\n",
    "\n",
    "## PHYSICAL CONSTANTS \n",
    "T      = 298.15\n",
    "F      = 96485   # C/mol, Faraday's constant\n",
    "R      = 8.3145  # J/mol-K, ideal gas constant\n",
    "f      = F/(R*T) # 1/V, normalized Faraday's constant at room temperature\n",
    "\n",
    "## INDEPENDENT VARIABLES \n",
    "### EXPERIMENTALLY CONTROLED\n",
    "C_red_val  = 1.0    #  mol/L, initial concentration of O. Default = 1.0\n",
    "C_ox_val   = 0.0    #  mol/L, initial concentration of O. Default = 1.0\n",
    "S          = 1E-6   #  electrode surface. Default = 1E-6\n",
    "\n",
    "### SYSTEM DEPENDENT\n",
    "E_0        = 0.0    #  electrochemical potential. Default = 0.0\n",
    "D          = 1E-5   #  cm^2/s, O & R diffusion coefficient. Default = 1E-5\n",
    "n          = 1.0    #  number of electrons transfered. Default = 1\n",
    "alpha      = 0.5    #  dimensionless charge-transfer coefficient. Default = 0.5\n",
    "k0         = 1E-2   #  cm/s, electrochemical rate constant. Default = 1E-2\n",
    "kc         = 1E-3   #  1/s, chemical rate constant. Default = 1E-3\n",
    "\n",
    "## SIMULATION VARIABLES\n",
    "# simulation accuracy in time and space\n",
    "Nt      = 3000  # number of iterations per t_k (pg 790). Default = 500\n",
    "Nx      = 200    # number of spatial boxes  Default = 200\n",
    "\n",
    "# key adimensionnated parameters\n",
    "DM      = 0.45     #DM = D*Dt/Dx**2 numerical adimensionated diffusion parameter. Default = 0.45\n",
    "Lambda  = 2        #Lambda  = k0*Dx/D numerical adimensionated electron transfer parameter. Fast if \n",
    "\n",
    "# physical distances according to the previosu parameters\n",
    "L_cuve  = math.floor(4.2*Nt**0.5) + 6  \n",
    "    # longueur physique de la cuve \n",
    "    # so that we are always in a diffusion controled system\n",
    "Dx      = L_cuve/Nx\n",
    "\n",
    "\n",
    "## Experimental paramteres in the case of a linear sweep voltammetry\n",
    "E_i = -1.0\n",
    "E_f = +1.0\n",
    "v = 0.1\n",
    "\n",
    "\n",
    "def main_LSV_Non_Nernstian(LLambda):\n",
    "    Lambda = LLambda\n",
    "    \n",
    "    (E, tk) = rampe(E_i, E_f, v)\n",
    "    print(E(0))\n",
    "    ## Pas Dx et Dt\n",
    "    Dt = tk/Nt  \n",
    "\n",
    "    print(\"DM = \", DM, \"and lambda = \", Lambda)\n",
    "    \n",
    "    ## profil de concentration inital\n",
    "    C_new = np.append([C_ox_val for i in range(Nx)],[C_red_val for i in range(Nx)])\n",
    "\n",
    "    ## propagation temporelle\n",
    "    fig, ax = plt.subplots(3)\n",
    "    (M_new_constant, M_old) = Matrix_constant(Nx)\n",
    "    I = np.array(())\n",
    "\n",
    "    for i in range(Nt):\n",
    "        C_old = C_new\n",
    "        t = i*Dt \n",
    "        M_new = Matrix_E_Non_Nernst_boundaries(M_new_constant, Nx, t, E, Lambda)\n",
    "        C_new = compute_Cnew(M_new, M_old, C_old)\n",
    "        I = np.append(I, compute_I(C_new))\n",
    "        if i % 100 == 0:\n",
    "            ax[0].plot([j*Dx for j in range(Nx)], C_new[:Nx], label= 'time = %is' %(i*Dt))\n",
    "            ax[1].plot([j*Dx for j in range(Nx)], C_new[Nx:], label= 'time = %is' %(i*Dt))\n",
    "\n",
    "    ax[2].plot([E(i*(Dt)) for i in range(Nt)], I)\n",
    "    ax[0].legend(bbox_to_anchor=(1.05, 1), loc='upper left', borderaxespad=0.)\n",
    "    ax[1].legend(bbox_to_anchor=(1.05, 1), loc='upper left', borderaxespad=0.)\n",
    "    plt.show()\n",
    "    \n",
    "    return(I)\n"
   ]
  },
  {
   "cell_type": "code",
   "execution_count": 4,
   "metadata": {},
   "outputs": [
    {
     "ename": "NameError",
     "evalue": "name 'rampe' is not defined",
     "output_type": "error",
     "traceback": [
      "\u001b[0;31m---------------------------------------------------------------------------\u001b[0m",
      "\u001b[0;31mNameError\u001b[0m                                 Traceback (most recent call last)",
      "\u001b[0;32m<ipython-input-4-63771a6a6c80>\u001b[0m in \u001b[0;36m<module>\u001b[0;34m\u001b[0m\n\u001b[0;32m----> 1\u001b[0;31m \u001b[0mmain_LSV_Non_Nernstian\u001b[0m\u001b[0;34m(\u001b[0m\u001b[0;36m1\u001b[0m\u001b[0;34m)\u001b[0m\u001b[0;34m\u001b[0m\u001b[0;34m\u001b[0m\u001b[0m\n\u001b[0m",
      "\u001b[0;32m<ipython-input-1-177fdbce95e9>\u001b[0m in \u001b[0;36mmain_LSV_Non_Nernstian\u001b[0;34m(LLambda)\u001b[0m\n\u001b[1;32m     48\u001b[0m     \u001b[0mLambda\u001b[0m \u001b[0;34m=\u001b[0m \u001b[0mLLambda\u001b[0m\u001b[0;34m\u001b[0m\u001b[0;34m\u001b[0m\u001b[0m\n\u001b[1;32m     49\u001b[0m \u001b[0;34m\u001b[0m\u001b[0m\n\u001b[0;32m---> 50\u001b[0;31m     \u001b[0;34m(\u001b[0m\u001b[0mE\u001b[0m\u001b[0;34m,\u001b[0m \u001b[0mtk\u001b[0m\u001b[0;34m)\u001b[0m \u001b[0;34m=\u001b[0m \u001b[0mrampe\u001b[0m\u001b[0;34m(\u001b[0m\u001b[0mE_i\u001b[0m\u001b[0;34m,\u001b[0m \u001b[0mE_f\u001b[0m\u001b[0;34m,\u001b[0m \u001b[0mv\u001b[0m\u001b[0;34m)\u001b[0m\u001b[0;34m\u001b[0m\u001b[0;34m\u001b[0m\u001b[0m\n\u001b[0m\u001b[1;32m     51\u001b[0m     \u001b[0mprint\u001b[0m\u001b[0;34m(\u001b[0m\u001b[0mE\u001b[0m\u001b[0;34m(\u001b[0m\u001b[0;36m0\u001b[0m\u001b[0;34m)\u001b[0m\u001b[0;34m)\u001b[0m\u001b[0;34m\u001b[0m\u001b[0;34m\u001b[0m\u001b[0m\n\u001b[1;32m     52\u001b[0m     \u001b[0;31m## Pas Dx et Dt\u001b[0m\u001b[0;34m\u001b[0m\u001b[0;34m\u001b[0m\u001b[0;34m\u001b[0m\u001b[0m\n",
      "\u001b[0;31mNameError\u001b[0m: name 'rampe' is not defined"
     ]
    }
   ],
   "source": [
    "main_LSV_Non_Nernstian(1)"
   ]
  },
  {
   "cell_type": "code",
   "execution_count": null,
   "metadata": {},
   "outputs": [],
   "source": []
  }
 ],
 "metadata": {
  "kernelspec": {
   "display_name": "Python 3",
   "language": "python",
   "name": "python3"
  },
  "language_info": {
   "codemirror_mode": {
    "name": "ipython",
    "version": 3
   },
   "file_extension": ".py",
   "mimetype": "text/x-python",
   "name": "python",
   "nbconvert_exporter": "python",
   "pygments_lexer": "ipython3",
   "version": "3.7.6"
  }
 },
 "nbformat": 4,
 "nbformat_minor": 4
}
