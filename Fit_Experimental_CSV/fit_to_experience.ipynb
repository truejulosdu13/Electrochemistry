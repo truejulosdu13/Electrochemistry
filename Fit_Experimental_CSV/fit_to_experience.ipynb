{
 "cells": [
  {
   "cell_type": "code",
   "execution_count": 1,
   "metadata": {},
   "outputs": [],
   "source": [
    "import os\n",
    "import pandas as pd\n",
    "import matplotlib.pyplot as plt\n",
    "import sys\n",
    "sys.path.append('../')\n",
    "from default_constants import *\n",
    "from ECE_mechanism.voltammogram_ECE_no_plot import CSV_ECE_ox\n",
    "from ECE_mechanism.plot_voltammogram_ECE import extract_expe_like_CSV\n",
    "from scipy.optimize import minimize\n",
    "\n",
    "def plot_experimental_data(folder_name):\n",
    "    directory = folder_name\n",
    "    for filename in os.listdir(directory):\n",
    "        if filename.endswith(\".txt\"): \n",
    "            path = os.path.join(directory, filename)\n",
    "            df = pd.read_csv(path, delimiter = ';', decimal = ',')\n",
    "            Potential = df['Potential applied (V)'].to_numpy()\n",
    "            Intensity = df['WE(1).Current (A)'].to_numpy()\n",
    "            plt.plot(Potential, Intensity, label = path)\n",
    "            continue\n",
    "        else:\n",
    "            continue\n",
    "        plt.legend(bbox_to_anchor=(1.05, 1), loc='upper left', borderaxespad=0.)\n",
    "        \n",
    "    \n",
    "def find_experimental_potentials_CSV(file_name):\n",
    "    df = pd.read_csv(file_name, delimiter = ';', decimal = ',')\n",
    "    Potential = df['Potential applied (V)'].to_numpy()\n",
    "    Time      = df['Time (s)'].to_numpy()\n",
    "    E_ox = max(Potential)\n",
    "    E_red = min(Potential)\n",
    "    E_start = Potential[0]\n",
    "    Delta_E = Potential[1] - Potential[0]\n",
    "    v = Delta_E/(Time[1] - Time[0])\n",
    "    return(E_ox, E_red, 0.0, Delta_E, v, 0.0, 0.0, E_start)\n",
    "\n",
    "def set_expe_cst(cst_all, cst_expe_new):\n",
    "    cst_all_new = list(cst_all)\n",
    "    cst_expe_new = list(cst_expe_new)\n",
    "    cst_all_new[4] = list(cst_all_new[4])\n",
    "    for i in range(len(cst_all_new[4])):\n",
    "        cst_all_new[4][i] = cst_expe_new[i]\n",
    "    cst_all_new[4] = tuple(cst_all_new[4])\n",
    "    cst_all_new = tuple(cst_all_new)\n",
    "    return(cst_all_new)   \n",
    "\n",
    "def guess_potentials(E_0_1, E_0_2, cst_all):\n",
    "    cst_all_new = list(cst_all)\n",
    "    cst_all_new[2] = list(cst_all_new[2])\n",
    "    cst_all_new[2][0] = E_0_1\n",
    "    cst_all_new[2][9] = E_0_2\n",
    "    cst_all_new[2] = tuple(cst_all_new[2])\n",
    "    cst_all_new = tuple(cst_all_new)\n",
    "    return(cst_all_new)  \n",
    "    \n",
    "def I_new(new_guess, *cst_expe_set):\n",
    "    cst_expe_guess = cst_expe_set\n",
    "    cst_expe_guess = list(cst_expe_guess)\n",
    "    cst_expe_guess[2] = list(cst_expe_guess[2])\n",
    "    cst_expe_guess[2][0] = new_guess[0]\n",
    "    cst_expe_guess[2][9] = new_guess[1]\n",
    "    cst_expe_guess[2][6] = new_guess[2]\n",
    "    cst_expe_guess[2][7] = new_guess[3]\n",
    "    cst_expe_guess[2][4] = new_guess[4]\n",
    "    cst_expe_guess[2] = tuple(cst_expe_guess[2])\n",
    "    cst_expe_guess = tuple(cst_expe_guess)\n",
    "    I_simu_CSV = CSV_ECE_ox(cst_expe_guess)\n",
    "    E_expe, I_simu_CSV_2 = extract_expe_like_CSV(cst_expe_guess, I_simu_CSV)\n",
    "    return(I_simu_CSV_2)\n",
    "\n",
    "def Error_I(I_new, *I_expe_CSV):\n",
    "    Error = 0\n",
    "    I_new = I_new/max(I_new)\n",
    "    I_expe_CSV = I_expe_CSV/max(I_expe_CSV)\n",
    "    for i in range(len(I_new)):\n",
    "        Delta_I = I_new[i] - I_expe_CSV[i]\n",
    "        Error += Delta_I**2\n",
    "    print(Error)\n",
    "    return(Error)\n",
    "\n",
    "def fun_1(new_guess, *fixed_parms):\n",
    "    cst_expe_set = fixed_parms[0]\n",
    "    I_expe = fixed_parms[1]\n",
    "    I = I_new(new_guess, *cst_expe_set)\n",
    "    Err = Error_I(I, *I_expe)\n",
    "    return(Err)\n",
    "    \n",
    "\n",
    "    # fitting with the error\n",
    "def fit_experimental_data(file_name, guess):\n",
    "    path = os.path.join('Examples_ECE', file_name)\n",
    "    # adjust set up parameters\n",
    "    cst_expe = find_experimental_potentials_CSV(path)\n",
    "    cst_default = set_default_constants()\n",
    "    cst_expe_set = set_expe_cst(cst_default, cst_expe)\n",
    "    \n",
    "    # define the function to minimize :\n",
    "    cst_syst_guess = guess_potentials(guess[0], guess[1] , cst_expe_set)\n",
    "    \n",
    "    df = pd.read_csv(path, delimiter = ';', decimal = ',')\n",
    "    I_expe_CSV = df['WE(1).Current (A)'].to_numpy()\n",
    "    I_expe_CSV = I_expe_CSV/max(I_expe_CSV)\n",
    "    E_expe_CSV = df['Potential applied (V)'].to_numpy()\n",
    "\n",
    "    Best = minimize(fun_1, guess, \n",
    "                    args = (cst_expe_set, I_expe_CSV),  \n",
    "                    method='SLSQP', \n",
    "                    bounds= ((0.4,0.8),(0.3,0.8), (0.001,10), (0.001,20), (0.00001,1))\n",
    "                   )   \n",
    "    #print(cst_expe_set[2])  \n",
    "    return(Best)\n",
    "\n",
    "    # curve fitting with the error\n",
    "def fit_experimental_data_2(file_name, guess):\n",
    "    path = os.path.join('Examples_ECE', file_name)\n",
    "    # adjust set up parameters\n",
    "    cst_expe = find_experimental_potentials_CSV(path)\n",
    "    cst_default = set_default_constants()\n",
    "    cst_expe_set = set_expe_cst(cst_default, cst_expe)\n",
    "    \n",
    "    # define the function to minimize :\n",
    "    cst_syst_guess = guess_potentials(guess[0], guess[1] , cst_expe_set)\n",
    "    \n",
    "    df = pd.read_csv(path, delimiter = ';', decimal = ',')\n",
    "    I_expe_CSV = df['WE(1).Current (A)'].to_numpy()\n",
    "    I_expe_CSV = I_expe_CSV/max(I_expe_CSV)\n",
    "    E_expe_CSV = df['Potential applied (V)'].to_numpy()\n",
    "\n",
    "    Best = minimize(fun_1, (0.6, 0.5, 1, 1, 0.01), args = (cst_expe_set, I_expe_CSV), method='SLSQP')   \n",
    "    #print(cst_expe_set[2])  \n",
    "    return(Best)"
   ]
  },
  {
   "cell_type": "code",
   "execution_count": 2,
   "metadata": {},
   "outputs": [],
   "source": [
    "#plot_experimental_data('Examples_ECE')"
   ]
  },
  {
   "cell_type": "code",
   "execution_count": 3,
   "metadata": {},
   "outputs": [],
   "source": [
    "path = os.path.join('Examples_ECE', 'Che207 Ni(BinapSQ) 500mV s.txt')\n",
    "cst_expe = find_experimental_potentials_CSV(path)\n",
    "cst_default = set_default_constants()\n",
    "cst_expe_set = set_expe_cst(cst_default, cst_expe)\n",
    "cst_syst_guess = guess_potentials(0.6, 0.5, cst_expe_set)"
   ]
  },
  {
   "cell_type": "code",
   "execution_count": 4,
   "metadata": {},
   "outputs": [
    {
     "name": "stdout",
     "output_type": "stream",
     "text": [
      "DM =  0.45 and lambda =  50\n"
     ]
    },
    {
     "data": {
      "image/png": "[encoded data removed]",
      "text/plain": [
       "<Figure size 432x288 with 1 Axes>"
      ]
     },
     "metadata": {
      "needs_background": "light"
     },
     "output_type": "display_data"
    }
   ],
   "source": [
    "guess=(5.55824144e-01, 4.41382398e-01, 9.71843960e-01, 1.00000000e+01,\n",
    "       1.00000000e-03)\n",
    "df = pd.read_csv(path, delimiter = ';', decimal = ',')\n",
    "I_expe_CSV = df['WE(1).Current (A)'].to_numpy()\n",
    "I_expe_CSV = I_expe_CSV/max(I_expe_CSV)\n",
    "E_expe_CSV = df['Potential applied (V)'].to_numpy()\n",
    "I = I_new(guess, *cst_expe_set)\n",
    "I_simu_CSV = I/max(I)\n",
    "\n",
    "plt.plot(E_expe_CSV, I_expe_CSV, label = 'expe')\n",
    "plt.plot(E_expe_CSV, I_simu_CSV, label = 'simu')\n",
    "plt.legend()\n",
    "plt.show()"
   ]
  },
  {
   "cell_type": "code",
   "execution_count": 5,
   "metadata": {
    "scrolled": false
   },
   "outputs": [
    {
     "name": "stdout",
     "output_type": "stream",
     "text": [
      "DM =  0.45 and lambda =  50\n",
      "0.5327664529241967\n",
      "DM =  0.45 and lambda =  50\n",
      "0.5327664529241967\n",
      "DM =  0.45 and lambda =  50\n",
      "0.5327664535183093\n",
      "DM =  0.45 and lambda =  50\n",
      "0.5327664529145673\n",
      "DM =  0.45 and lambda =  50\n",
      "0.5327664529268294\n",
      "DM =  0.45 and lambda =  50\n",
      "0.5327664528638121\n",
      "DM =  0.45 and lambda =  50\n",
      "0.5327664529241967\n",
      "DM =  0.45 and lambda =  50\n",
      "1.1997155204103642\n",
      "DM =  0.45 and lambda =  50\n",
      "0.5465698733347764\n",
      "DM =  0.45 and lambda =  50\n",
      "0.5328881618022707\n",
      "DM =  0.45 and lambda =  50\n",
      "0.5327662228659193\n"
     ]
    },
    {
     "data": {
      "text/plain": [
       "     fun: 0.5327662228659193\n",
       "     jac: array([ 0.03987022, -0.00064622,  0.00017668, -0.00405234,  0.        ])\n",
       " message: 'Optimization terminated successfully.'\n",
       "    nfev: 11\n",
       "     nit: 1\n",
       "    njev: 1\n",
       "  status: 0\n",
       " success: True\n",
       "       x: array([5.55784274e-01, 4.41383044e-01, 9.71843783e-01, 1.00000041e+01,\n",
       "       1.00000000e-04])"
      ]
     },
     "execution_count": 5,
     "metadata": {},
     "output_type": "execute_result"
    }
   ],
   "source": [
    "guess=(5.55824144e-01, 4.41382398e-01, 9.71843960e-01, 1.00000000e+01,\n",
    "       1.00000000e-04)\n",
    "fit_experimental_data('Che207 Ni(BinapSQ) 500mV s.txt', guess)"
   ]
  },
  {
   "cell_type": "code",
   "execution_count": 8,
   "metadata": {},
   "outputs": [
    {
     "name": "stdout",
     "output_type": "stream",
     "text": [
      "DM =  0.45 and lambda =  50\n"
     ]
    },
    {
     "data": {
      "image/png": "[encoded data removed]",
      "text/plain": [
       "<Figure size 432x288 with 1 Axes>"
      ]
     },
     "metadata": {
      "needs_background": "light"
     },
     "output_type": "display_data"
    }
   ],
   "source": [
    "found_guess_2 = (5.55784274e-01, 4.41383044e-01, 9.71843783e-01, 1.00000041e+01,\n",
    "       1.00000000e-04)\n",
    "\n",
    "\n",
    "I_expe_CSV = df['WE(1).Current (A)'].to_numpy()\n",
    "I_expe_CSV = I_expe_CSV/max(I_expe_CSV)\n",
    "E_expe_CSV = df['Potential applied (V)'].to_numpy()\n",
    "I = I_new(found_guess_2, *cst_expe_set)\n",
    "I_simu_CSV = I/max(I)\n",
    "\n",
    "plt.plot(E_expe_CSV, I_expe_CSV, label = 'expe')\n",
    "plt.plot(E_expe_CSV, I_simu_CSV, label = 'simu')\n",
    "plt.legend()\n",
    "plt.show()\n",
    "\n"
   ]
  },
  {
   "cell_type": "code",
   "execution_count": 7,
   "metadata": {
    "scrolled": true
   },
   "outputs": [
    {
     "name": "stdout",
     "output_type": "stream",
     "text": [
      "DM =  0.45 and lambda =  50\n"
     ]
    },
    {
     "data": {
      "image/png": "[encoded data removed]",
      "text/plain": [
       "<Figure size 432x288 with 1 Axes>"
      ]
     },
     "metadata": {
      "needs_background": "light"
     },
     "output_type": "display_data"
    }
   ],
   "source": [
    "found_guess_2 = (5.55834655e-01, 4.41369917e-01, 9.71844851e-01, 1.00000494e+01,\n",
    "       1.00000000e-03)\n",
    "\n",
    "\n",
    "I_expe_CSV = df['WE(1).Current (A)'].to_numpy()\n",
    "I_expe_CSV = I_expe_CSV/max(I_expe_CSV)\n",
    "E_expe_CSV = df['Potential applied (V)'].to_numpy()\n",
    "I = I_new(found_guess_2, *cst_expe_set)\n",
    "I_simu_CSV = I/max(I)\n",
    "\n",
    "plt.plot(E_expe_CSV, I_expe_CSV, label = 'expe')\n",
    "plt.plot(E_expe_CSV, I_simu_CSV, label = 'simu')\n",
    "plt.legend()\n",
    "plt.show()\n"
   ]
  },
  {
   "cell_type": "code",
   "execution_count": null,
   "metadata": {},
   "outputs": [],
   "source": [
    "found_guess_1 = (5.55824144e-01, 4.41382398e-01, 9.71843960e-01, 1.00000000e+01,\n",
    "       1.00000000e-03)\n",
    "I_expe_CSV = df['WE(1).Current (A)'].to_numpy()\n",
    "I_expe_CSV = I_expe_CSV/max(I_expe_CSV)\n",
    "E_expe_CSV = df['Potential applied (V)'].to_numpy()\n",
    "I = I_new(found_guess, *cst_expe_set)\n",
    "I_simu_CSV = I/max(I)\n",
    "\n",
    "plt.plot(E_expe_CSV, I_expe_CSV, label = 'expe')\n",
    "plt.plot(E_expe_CSV, I_simu_CSV, label = 'simu')\n",
    "plt.legend()\n",
    "plt.show()"
   ]
  },
  {
   "cell_type": "code",
   "execution_count": 19,
   "metadata": {},
   "outputs": [],
   "source": [
    "df = pd.read_csv(path, delimiter = ';', decimal = ',')"
   ]
  },
  {
   "cell_type": "code",
   "execution_count": null,
   "metadata": {},
   "outputs": [],
   "source": []
  },
  {
   "cell_type": "code",
   "execution_count": 20,
   "metadata": {},
   "outputs": [
    {
     "data": {
      "text/html": [
       "<div>\n",
       "<style scoped>\n",
       "    .dataframe tbody tr th:only-of-type {\n",
       "        vertical-align: middle;\n",
       "    }\n",
       "\n",
       "    .dataframe tbody tr th {\n",
       "        vertical-align: top;\n",
       "    }\n",
       "\n",
       "    .dataframe thead th {\n",
       "        text-align: right;\n",
       "    }\n",
       "</style>\n",
       "<table border=\"1\" class=\"dataframe\">\n",
       "  <thead>\n",
       "    <tr style=\"text-align: right;\">\n",
       "      <th></th>\n",
       "      <th>Potential applied (V)</th>\n",
       "      <th>Time (s)</th>\n",
       "      <th>WE(1).Current (A)</th>\n",
       "      <th>Scan</th>\n",
       "      <th>Index</th>\n",
       "      <th>Q+</th>\n",
       "      <th>Q-</th>\n",
       "      <th>Current range</th>\n",
       "    </tr>\n",
       "  </thead>\n",
       "  <tbody>\n",
       "    <tr>\n",
       "      <th>0</th>\n",
       "      <td>0.372467</td>\n",
       "      <td>12.861095</td>\n",
       "      <td>1.199341e-08</td>\n",
       "      <td>1</td>\n",
       "      <td>1</td>\n",
       "      <td>0.000005</td>\n",
       "      <td>-0.000003</td>\n",
       "      <td>10 µA</td>\n",
       "    </tr>\n",
       "    <tr>\n",
       "      <th>1</th>\n",
       "      <td>0.392456</td>\n",
       "      <td>12.901073</td>\n",
       "      <td>3.094482e-08</td>\n",
       "      <td>1</td>\n",
       "      <td>2</td>\n",
       "      <td>0.000005</td>\n",
       "      <td>-0.000003</td>\n",
       "      <td>10 µA</td>\n",
       "    </tr>\n",
       "    <tr>\n",
       "      <th>2</th>\n",
       "      <td>0.412445</td>\n",
       "      <td>12.941051</td>\n",
       "      <td>6.311035e-08</td>\n",
       "      <td>1</td>\n",
       "      <td>3</td>\n",
       "      <td>0.000005</td>\n",
       "      <td>-0.000003</td>\n",
       "      <td>10 µA</td>\n",
       "    </tr>\n",
       "    <tr>\n",
       "      <th>3</th>\n",
       "      <td>0.432434</td>\n",
       "      <td>12.981029</td>\n",
       "      <td>1.256104e-07</td>\n",
       "      <td>1</td>\n",
       "      <td>4</td>\n",
       "      <td>0.000005</td>\n",
       "      <td>-0.000003</td>\n",
       "      <td>10 µA</td>\n",
       "    </tr>\n",
       "    <tr>\n",
       "      <th>4</th>\n",
       "      <td>0.452423</td>\n",
       "      <td>13.021007</td>\n",
       "      <td>2.459106e-07</td>\n",
       "      <td>1</td>\n",
       "      <td>5</td>\n",
       "      <td>0.000005</td>\n",
       "      <td>-0.000003</td>\n",
       "      <td>10 µA</td>\n",
       "    </tr>\n",
       "    <tr>\n",
       "      <th>...</th>\n",
       "      <td>...</td>\n",
       "      <td>...</td>\n",
       "      <td>...</td>\n",
       "      <td>...</td>\n",
       "      <td>...</td>\n",
       "      <td>...</td>\n",
       "      <td>...</td>\n",
       "      <td>...</td>\n",
       "    </tr>\n",
       "    <tr>\n",
       "      <th>97</th>\n",
       "      <td>0.272522</td>\n",
       "      <td>16.738961</td>\n",
       "      <td>-2.991943e-07</td>\n",
       "      <td>1</td>\n",
       "      <td>98</td>\n",
       "      <td>0.000005</td>\n",
       "      <td>-0.000003</td>\n",
       "      <td>10 µA</td>\n",
       "    </tr>\n",
       "    <tr>\n",
       "      <th>98</th>\n",
       "      <td>0.292511</td>\n",
       "      <td>16.778939</td>\n",
       "      <td>-2.827759e-07</td>\n",
       "      <td>1</td>\n",
       "      <td>99</td>\n",
       "      <td>0.000005</td>\n",
       "      <td>-0.000003</td>\n",
       "      <td>10 µA</td>\n",
       "    </tr>\n",
       "    <tr>\n",
       "      <th>99</th>\n",
       "      <td>0.312500</td>\n",
       "      <td>16.818917</td>\n",
       "      <td>-2.661438e-07</td>\n",
       "      <td>1</td>\n",
       "      <td>100</td>\n",
       "      <td>0.000005</td>\n",
       "      <td>-0.000003</td>\n",
       "      <td>10 µA</td>\n",
       "    </tr>\n",
       "    <tr>\n",
       "      <th>100</th>\n",
       "      <td>0.332489</td>\n",
       "      <td>16.858895</td>\n",
       "      <td>-2.461853e-07</td>\n",
       "      <td>1</td>\n",
       "      <td>101</td>\n",
       "      <td>0.000005</td>\n",
       "      <td>-0.000003</td>\n",
       "      <td>10 µA</td>\n",
       "    </tr>\n",
       "    <tr>\n",
       "      <th>101</th>\n",
       "      <td>0.352478</td>\n",
       "      <td>16.898873</td>\n",
       "      <td>-2.185669e-07</td>\n",
       "      <td>1</td>\n",
       "      <td>102</td>\n",
       "      <td>0.000005</td>\n",
       "      <td>-0.000003</td>\n",
       "      <td>10 µA</td>\n",
       "    </tr>\n",
       "  </tbody>\n",
       "</table>\n",
       "<p>102 rows × 8 columns</p>\n",
       "</div>"
      ],
      "text/plain": [
       "     Potential applied (V)   Time (s)  WE(1).Current (A)  Scan  Index  \\\n",
       "0                 0.372467  12.861095       1.199341e-08     1      1   \n",
       "1                 0.392456  12.901073       3.094482e-08     1      2   \n",
       "2                 0.412445  12.941051       6.311035e-08     1      3   \n",
       "3                 0.432434  12.981029       1.256104e-07     1      4   \n",
       "4                 0.452423  13.021007       2.459106e-07     1      5   \n",
       "..                     ...        ...                ...   ...    ...   \n",
       "97                0.272522  16.738961      -2.991943e-07     1     98   \n",
       "98                0.292511  16.778939      -2.827759e-07     1     99   \n",
       "99                0.312500  16.818917      -2.661438e-07     1    100   \n",
       "100               0.332489  16.858895      -2.461853e-07     1    101   \n",
       "101               0.352478  16.898873      -2.185669e-07     1    102   \n",
       "\n",
       "           Q+        Q- Current range  \n",
       "0    0.000005 -0.000003         10 µA  \n",
       "1    0.000005 -0.000003         10 µA  \n",
       "2    0.000005 -0.000003         10 µA  \n",
       "3    0.000005 -0.000003         10 µA  \n",
       "4    0.000005 -0.000003         10 µA  \n",
       "..        ...       ...           ...  \n",
       "97   0.000005 -0.000003         10 µA  \n",
       "98   0.000005 -0.000003         10 µA  \n",
       "99   0.000005 -0.000003         10 µA  \n",
       "100  0.000005 -0.000003         10 µA  \n",
       "101  0.000005 -0.000003         10 µA  \n",
       "\n",
       "[102 rows x 8 columns]"
      ]
     },
     "execution_count": 20,
     "metadata": {},
     "output_type": "execute_result"
    }
   ],
   "source": [
    "df['Potential applied (V)']"
   ]
  },
  {
   "cell_type": "code",
   "execution_count": null,
   "metadata": {},
   "outputs": [],
   "source": []
  }
 ],
 "metadata": {
  "kernelspec": {
   "display_name": "Python 3",
   "language": "python",
   "name": "python3"
  },
  "language_info": {
   "codemirror_mode": {
    "name": "ipython",
    "version": 3
   },
   "file_extension": ".py",
   "mimetype": "text/x-python",
   "name": "python",
   "nbconvert_exporter": "python",
   "pygments_lexer": "ipython3",
   "version": "3.7.6"
  }
 },
 "nbformat": 4,
 "nbformat_minor": 4
}
