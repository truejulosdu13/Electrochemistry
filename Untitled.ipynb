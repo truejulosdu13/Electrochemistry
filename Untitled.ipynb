{
 "cells": [
  {
   "cell_type": "code",
   "execution_count": null,
   "metadata": {},
   "outputs": [],
   "source": [
    "#default constants returns a dictionnary for the constants to define :\n",
    "\n",
    "\n",
    "\n",
    "def set_default_constants():\n",
    "## PHYSICAL CONSTANTS \n",
    "    R      = 8.3145  # J/mol-K, ideal gas constant\n",
    "    T      = 298.15  # K, temperature\n",
    "    F      = 96485   # C/mol, Faraday's constant\n",
    "    S      = 1E-6   #  electrode surface. Default = 1E-6\n",
    "    F_norm = F/(R*T)\n",
    "\n",
    "\n",
    "## INDEPENDENT VARIABLES \n",
    "### EXPERIMENTALLY CONTROLED\n",
    "    C_a   = 2E-3   #  mol/L, initial concentration of A. Default = 1.0\n",
    "    C_b   = 0.0    #  mol/L, initial concentration of B. Default = 0.0\n",
    "    C_c   = 0.0    #  mol/L, initial concentration of C. Default = 0.0\n",
    "    C_d   = 0.0    #  mol/L, initial concentration of D. Default = 0.0\n",
    "    n_sp  = 4      # number of reactive species considered\n",
    "\n",
    "### SYSTEM DEPENDENT\n",
    "    E_0_1        = -0.5    #  electrochemical potential couple A/B. Default = 0.0\n",
    "    E_0_2        = -1.0    #  electrochemical potential couple C/D. Default = -1.0\n",
    "    D            = 1E-5   #  cm^2/s, O & R diffusion coefficient. Default = 1E-5\n",
    "    n            = 1.0    #  number of electrons transfered. Default = 1\n",
    "    alpha        = 0.5    #  dimensionless charge-transfer coefficient. Default = 0.5\n",
    "    k0           = 1E-2   #  cm/s, electrochemical rate constant. Default = 1E-2\n",
    "    kc           = 1E-3   #  1/s, chemical rate constant. Default = 1E-3\n",
    "    k_p          = 1      #  1/s, chemical rate constant. Default = 1E-3\n",
    "    k_m          = 1      #  1/s, chemical rate constant. Default = 1E-3\n",
    "    K      = k_p/k_m      #  dimensionless equilibrium constant for the pure chemical equilibria\n",
    "\n",
    "## SIMULATION VARIABLES\n",
    "# simulation accuracy in time and space\n",
    "    Nt      = 2000      # number of iterations per t_k (pg 790). Default = 500\n",
    "    Nx      = 200        # number of spatial boxes  Default = 200\n",
    "\n",
    "# key adimensionnated parameters\n",
    "    DM      = 0.45        #DM = D*Dt/Dx**2 numerical adimensionated diffusion parameter. Default = 0.45\n",
    "    Lambda  = 50         #Lambda  = k0*Dx/D numerical adimensionated electron transfer parameter. Fast if \n",
    "\n",
    "# physical distances according to the previosu parameters\n",
    "    L_cuve  = math.floor((D*Nt)**0.5) + 2 # longueur physique de la cuve so that we are always in a diffusion controled system\n",
    "    Dx      = L_cuve/Nx  # pas d'espace\n",
    "\n",
    "## Experimental paramteres in the case of a linear sweep voltammetry\n",
    "## LSV\n",
    "    E_i     = +0.0\n",
    "    E_ox    = +0.5\n",
    "    E_red   = -1.5\n",
    "    E_SW    = 0.05\n",
    "    Delta_E = -0.01\n",
    "    v       = 0.1\n",
    "    f       = 25\n",
    "    tau     = 1.0\n",
    "\n",
    "# sort all variables in order to be used in the next programms\n",
    "\n",
    "    cst_phys = (R,T,F,F_norm,S)\n",
    "    cst_conc = (C_a, C_b, C_c, C_d, n_sp)\n",
    "    cst_syst = (E_0_1, D, n, alpha, k0, kc, k_p, k_m, K, E_0_2)\n",
    "    cst_simu = (Nt, Nx, DM, Lambda, L_cuve, Dx)\n",
    "    cst_expe = (E_ox, E_red, E_SW, Delta_E, v, f, tau, E_i)\n",
    " \n",
    "    cst_all  = (cst_phys, cst_conc, cst_syst, cst_simu, cst_expe)  \n",
    "    return(cst_all)\n",
    "\n",
    "\n",
    " "
   ]
  },
  {
   "cell_type": "code",
   "execution_count": 30,
   "metadata": {},
   "outputs": [],
   "source": [
    "import math\n",
    "\n",
    "def default_constants():\n",
    "    d_cst = {\n",
    "        ## PHYSICAL CONSTANTS \n",
    "            \"R\"       : 8.3145,  # J/mol-K, ideal gas constant\n",
    "            \"T\"       : 298.15,  # K, temperature\n",
    "            \"F\"       : 96485,   # C/mol, Faraday's constant\n",
    "            \"S\"       : 1E-6,    #  electrode surface. Default = 1E-6\n",
    "            \"F_norm\"  : 96485/(8.3145*298.15),\n",
    "\n",
    "\n",
    "        ## INDEPENDENT VARIABLES \n",
    "        ### EXPERIMENTALLY CONTROLED\n",
    "            \"C_a\"     : 2E-3,   #  mol/L, initial concentration of A. Default = 1.0\n",
    "            \"C_b\"     : 0.0,    #  mol/L, initial concentration of B. Default = 0.0\n",
    "            \"C_c\"     : 0.0,    #  mol/L, initial concentration of C. Default = 0.0\n",
    "            \"C_d\"     : 0.0,    #  mol/L, initial concentration of D. Default = 0.0\n",
    "            \"n_sp\"    : 4,      # number of reactive species considered\n",
    "\n",
    "        ### SYSTEM DEPENDENT\n",
    "            \"E_0_1\"        : -0.5,    #  electrochemical potential couple A/B. Default = 0.0\n",
    "            \"E_0_2\"        : -1.0,    #  electrochemical potential couple C/D. Default = -1.0\n",
    "            \"D\"            : 1E-5,    #  cm^2/s, O & R diffusion coefficient. Default = 1E-5\n",
    "            \"n\"            : 1.0,     #  number of electrons transfered. Default = 1\n",
    "            \"alpha\"        : 0.5,     #  dimensionless charge-transfer coefficient. Default = 0.5\n",
    "            \"k0\"           : 1E-2,    #  cm/s, electrochemical rate constant. Default = 1E-2\n",
    "            \"kc\"           : 1E-3,    #  1/s, chemical rate constant. Default = 1E-3\n",
    "            \"k_p\"          : 1,       #  1/s, chemical rate constant. Default = 1E-3\n",
    "            \"k_m\"          : 1,       #  1/s, chemical rate constant. Default = 1E-3\n",
    "            \"K\"            : 0,     #  dimensionless equilibrium constant for the pure chemical equilibria\n",
    "\n",
    "        ## SIMULATION VARIABLES\n",
    "        # simulation accuracy in time and space\n",
    "            \"Nt\"           : 2000,      # number of iterations per t_k (pg 790). Default = 500\n",
    "            \"Nx\"           : 200,       # number of spatial boxes  Default = 200\n",
    "\n",
    "        # key adimensionnated parameters\n",
    "            \"DM\"           : 0.45,       #DM = D*Dt/Dx**2 numerical adimensionated diffusion parameter. Default = 0.45\n",
    "            \"Lambda\"       : 50,         #Lambda  = k0*Dx/D numerical adimensionated electron transfer parameter. Fast if \n",
    "\n",
    "        # physical distances according to the previosu parameters\n",
    "            \"L_cuve\"       : 0,     # longueur physique de la cuve so that we are always in a diffusion controled system\n",
    "            \"Dx\"           : 0,     # pas d'espace\n",
    "\n",
    "        ## Experimental paramters for all voltammetry techniques\n",
    "        ## LSV\n",
    "            \"E_i\"          : +0.0,\n",
    "            \"E_ox\"         : +0.5,\n",
    "            \"E_red\"        : -1.5,\n",
    "            \"E_SW\"         : +0.05,\n",
    "            \"Delta_E\"      : -0.01,\n",
    "            \"v\"            : 0.1,\n",
    "            \"f\"            : 25,\n",
    "            \"tau\"          : 1.0\n",
    "            }\n",
    "    L_cuve  = math.floor((d_cst[\"D\"]*d_cst[\"Nt\"])**0.5) + 2\n",
    "    Dx      = L_cuve/d_cst[\"Nx\"]                      # pas d'espace\n",
    "    K       = d_cst[\"k_p\"]/d_cst[\"k_m\"]\n",
    "    d_cst[\"K\"]  = K\n",
    "    d_cst[\"Dx\"] = Dx\n",
    "    d_cst[\"L_cuve\"] = L_cuve\n",
    "    return(d_cst)"
   ]
  },
  {
   "cell_type": "code",
   "execution_count": 31,
   "metadata": {},
   "outputs": [],
   "source": [
    "d_cst = default_constants()"
   ]
  },
  {
   "cell_type": "code",
   "execution_count": 32,
   "metadata": {},
   "outputs": [
    {
     "data": {
      "text/plain": [
       "0.01"
      ]
     },
     "execution_count": 32,
     "metadata": {},
     "output_type": "execute_result"
    }
   ],
   "source": [
    "d_cst[\"Dx\"]"
   ]
  },
  {
   "cell_type": "code",
   "execution_count": 33,
   "metadata": {},
   "outputs": [
    {
     "name": "stdout",
     "output_type": "stream",
     "text": [
      "{'R': 8.3145, 'T': 298.15, 'F': 96485, 'S': 1e-06, 'F_norm': 38.921435528312095, 'C_a': 0.002, 'C_b': 0.0, 'C_c': 0.0, 'C_d': 0.0, 'n_sp': 4, 'E_0_1': -0.5, 'E_0_2': -1.0, 'D': 1e-05, 'n': 1.0, 'alpha': 0.5, 'k0': 0.01, 'kc': 0.001, 'k_p': 1, 'k_m': 1, 'K': 1.0, 'Nt': 2000, 'Nx': 200, 'DM': 0.45, 'Lambda': 50, 'L_cuve': 2, 'Dx': 0.01, 'E_i': 0.0, 'E_ox': 0.5, 'E_red': -1.5, 'E_SW': 0.05, 'Delta_E': -0.01, 'v': 0.1, 'f': 25, 'tau': 1.0}\n"
     ]
    }
   ],
   "source": [
    "print(d_cst)"
   ]
  },
  {
   "cell_type": "code",
   "execution_count": 19,
   "metadata": {},
   "outputs": [],
   "source": [
    "d_cst[\"E_i\"] = 2.0"
   ]
  },
  {
   "cell_type": "code",
   "execution_count": 20,
   "metadata": {},
   "outputs": [
    {
     "data": {
      "text/plain": [
       "2.0"
      ]
     },
     "execution_count": 20,
     "metadata": {},
     "output_type": "execute_result"
    }
   ],
   "source": [
    "d_cst[\"E_i\"]"
   ]
  },
  {
   "cell_type": "code",
   "execution_count": null,
   "metadata": {},
   "outputs": [],
   "source": []
  }
 ],
 "metadata": {
  "kernelspec": {
   "display_name": "Python 3",
   "language": "python",
   "name": "python3"
  },
  "language_info": {
   "codemirror_mode": {
    "name": "ipython",
    "version": 3
   },
   "file_extension": ".py",
   "mimetype": "text/x-python",
   "name": "python",
   "nbconvert_exporter": "python",
   "pygments_lexer": "ipython3",
   "version": "3.7.6"
  }
 },
 "nbformat": 4,
 "nbformat_minor": 4
}
