{
 "cells": [
  {
   "cell_type": "code",
   "execution_count": null,
   "metadata": {},
   "outputs": [],
   "source": [
    "# this functions take as input the experimental parameters that you fix depending on the kind of experiment you use ; \n",
    "# for example for a linear sweep potential you have to fix : start potential, end potential and sweep rate.\n",
    "\n",
    "def rampe(E_i, E_f, v):                   # rampe de potentiel\n",
    "    ## DERIVED CONSTANTS = function du signal imposé\n",
    "    tk  = 2*abs(E_i - E_f)/v            \n",
    "    \n",
    "    def E(t):\n",
    "        t_12 = abs(E_f - E_i)/v\n",
    "        signe = abs(E_f - E_i)/(E_f - E_i)\n",
    "        if t < t_12 :\n",
    "            E_t = E_i + signe*v*t\n",
    "        else :\n",
    "            E_t = E_f - signe*v*(t - t_12)\n",
    "        return(E_t)\n",
    "    \n",
    "    return(E, tk)    \n",
    "\n",
    "def creneau(E_1, E_2, tau):              # creneau (chrono_double_saut)\n",
    "    ## DERIVED CONSTANTS = function du signal imposé\n",
    "    tk  = 10*tau            \n",
    "    \n",
    "    def E(t):\n",
    "        if (math.floor(t/tau) % 2) == 0:\n",
    "            E_t = E_1\n",
    "        else:\n",
    "            E_t = E_2\n",
    "        return(E_t)\n",
    "    return(E, tk)\n",
    "\n",
    "def escalier(E_i, E_f, DeltaE, v):       # fonction marche (staircase_volta)\n",
    "    ## DERIVED CONSTANTS = function du signal imposé\n",
    "    tk  = 2*abs(E_i - E_f)/v            \n",
    "    \n",
    "    signe = abs(E_f - E_i)/(E_f - E_i)\n",
    "    def E(t):\n",
    "        t_12 = tk/2\n",
    "        if t < t_12 :\n",
    "            E_t = E_i + signe*math.floor(v*t/DeltaE)*DeltaE\n",
    "        else:\n",
    "            E_t = E_f - signe*math.floor(v*(t-t_12)/DeltaE)*DeltaE\n",
    "        return(E_t)\n",
    "    return(E, tk)\n",
    "\n",
    "def SWV(E_i, E_f, ESW, Delta_E, f):       # fonction marche (staircase_volta)\n",
    "    ## DERIVED CONSTANTS = function du signal imposé\n",
    "    tk  = 2*np.pi*abs(E_i - E_f)/(Delta_E*f)            \n",
    "    \n",
    "    signe = abs(E_f - E_i)/(E_f - E_i)\n",
    "    def E(t):\n",
    "        tau = 2*np.pi/f\n",
    "        E_t = E_i + signe*math.floor(t/tau)*Delta_E\n",
    "        if (math.floor(2*t/tau) % 2) == 0:\n",
    "            E_t += signe*ESW  \n",
    "        return(E_t)\n",
    "    return(E, tk)"
   ]
  }
 ],
 "metadata": {
  "kernelspec": {
   "display_name": "Python 3",
   "language": "python",
   "name": "python3"
  },
  "language_info": {
   "codemirror_mode": {
    "name": "ipython",
    "version": 3
   },
   "file_extension": ".py",
   "mimetype": "text/x-python",
   "name": "python",
   "nbconvert_exporter": "python",
   "pygments_lexer": "ipython3",
   "version": "3.7.6"
  }
 },
 "nbformat": 4,
 "nbformat_minor": 4
}
